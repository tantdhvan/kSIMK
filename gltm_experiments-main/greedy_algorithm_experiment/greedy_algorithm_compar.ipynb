{
 "cells": [
  {
   "cell_type": "code",
   "execution_count": 1,
   "id": "76028b80",
   "metadata": {},
   "outputs": [],
   "source": [
    "import numpy as np\n",
    "import pandas as pd\n",
    "import os\n",
    "from scipy.stats import uniform, beta\n",
    "import seaborn as sns\n",
    "import matplotlib.pyplot as plt\n",
    "from tqdm import tqdm\n",
    "from time import time\n",
    "from copy import deepcopy\n",
    "from itertools import product\n",
    "from sklearn.metrics import mean_absolute_error\n",
    "from multiprocessing import cpu_count\n",
    "from collections import Counter\n",
    "\n",
    "os.chdir(\"/Users/amkagan/Desktop/gltm_experiments\")\n",
    "\n",
    "from InfluenceDiffusion.Graph import Graph\n",
    "from InfluenceDiffusion.influence_models import GLTM, LTM, ICM\n",
    "\n",
    "from InfluenceDiffusion.estimation_models.OptimEstimation import GLTGridSearchEstimator\n",
    "from InfluenceDiffusion.estimation_models.EMEstimation import ICWeightEstimatorEM, LTWeightEstimatorEM\n",
    "from InfluenceDiffusion.weight_samplers import make_random_weights_with_indeg_constraint,\\\n",
    "                                               make_random_weights_with_fixed_indeg, \\\n",
    "                                               make_weighted_cascade_weights\n",
    "\n",
    "from benchmark_estimators import propagated_trace_number_weight_estimator, \\\n",
    "                                 propagated_trace_proportion_weight_estimator\n",
    "\n",
    "\n",
    "from utils.trace_utils import make_report_traces, trace_train_test_split\n",
    "from utils.utils import make_set_intersection_table, plot_distribution\n",
    "from utils.model_evaluation_utils import make_heatmap\n"
   ]
  },
  {
   "cell_type": "code",
   "execution_count": 102,
   "id": "6a4acbf5",
   "metadata": {},
   "outputs": [
    {
     "name": "stdout",
     "output_type": "stream",
     "text": [
      "Graph 0\n",
      "Graph 1\n",
      "Graph 2\n",
      "Graph 3\n",
      "Graph 4\n",
      "Graph 5\n",
      "Graph 6\n",
      "Graph 7\n",
      "Graph 8\n",
      "Graph 9\n"
     ]
    }
   ],
   "source": [
    "n_graphs = 10\n",
    "com_sizes = [100]\n",
    "p = 0.1\n",
    "random_state = 1\n",
    "max_seed_size = 5\n",
    "indeg_ub = 1\n",
    "fixed_indeg=False\n",
    "n_train_traces = 2000\n",
    "\n",
    "np.random.seed(random_state)\n",
    "\n",
    "\n",
    "n_nodes = np.sum(com_sizes)\n",
    "seed_size_range = range(1, max_seed_size + 1)\n",
    "\n",
    "\n",
    "true_distrib_dict = {v: beta(1, int(np.random.randint(1, 6))) for v in range(n_nodes)}\n",
    "g_idx_2_traces = {g_idx: [] for g_idx in range(n_graphs)}\n",
    "g_list = []\n",
    "\n",
    "for g_idx in range(n_graphs):\n",
    "    print(f\"Graph {g_idx}\")\n",
    "    g_nx = nx.erdos_renyi_graph(n_nodes, p=p, seed=g_idx, directed=True)\n",
    "    g = Graph(g_nx.edges)\n",
    "\n",
    "    if fixed_indeg: \n",
    "        true_weights = make_random_weights_with_fixed_indeg(g, indeg_ub=indeg_ub, \n",
    "                                                            random_state=None)\n",
    "    else:\n",
    "        true_weights = make_random_weights_with_indeg_constraint(g, indeg_ub=indeg_ub, \n",
    "                                                                 random_state=None)\n",
    "        \n",
    "    g.set_weights(true_weights)\n",
    "    g_list.append(deepcopy(g))\n",
    "    \n",
    "    ltm = GLTM(g, true_distrib_dict, random_state=None)\n",
    "    train_traces = ltm.sample_traces(n_traces=n_train_traces, seed_size_range=seed_size_range)\n",
    "\n",
    "    # make_report_traces(train_traces)\n",
    "\n",
    "    g_idx_2_traces[g_idx]= train_traces"
   ]
  },
  {
   "cell_type": "code",
   "execution_count": 103,
   "id": "02de6397",
   "metadata": {},
   "outputs": [],
   "source": [
    "def make_distrib_dict(com_sizes: list, distribs: list):\n",
    "    assert len(com_sizes) == len(distribs)\n",
    "    distrib_dict = {}\n",
    "    cum_sizes = np.cumsum([0] + com_sizes)\n",
    "    for distrib, start_idx, end_idx in zip(distribs, cum_sizes[:-1], cum_sizes[1:]):\n",
    "        for vertex in range(start_idx, end_idx):\n",
    "            distrib_dict[vertex] = distrib\n",
    "    return distrib_dict"
   ]
  },
  {
   "cell_type": "code",
   "execution_count": 104,
   "id": "ce4a4207-7d8d-4fb8-b6fa-aba917eb4974",
   "metadata": {},
   "outputs": [
    {
     "name": "stdout",
     "output_type": "stream",
     "text": [
      "['Oracle', 'LT', 'WC', 'PTP', 'IC', 'GLT']\n"
     ]
    }
   ],
   "source": [
    "model_names = [\"Oracle\"] + [\"LT\", \"WC\", \"PTP\"] + [\"IC\", \"GLT\"]\n",
    "\n",
    "candidate_distrib_dicts = [true_distrib_dict] + [make_distrib_dict([n_nodes], [uniform(0, 1)])] * 3 + [None] * 2\n",
    "\n",
    "model_2_distrib_dict = {model_name: distrib_dict for model_name, distrib_dict \n",
    "                        in zip(model_names, candidate_distrib_dicts)}\n",
    " \n",
    "assert len(model_names) == len(candidate_distrib_dicts)\n",
    "print(model_names)"
   ]
  },
  {
   "cell_type": "code",
   "execution_count": 105,
   "id": "cc416fab",
   "metadata": {},
   "outputs": [],
   "source": [
    "save_name = \\\n",
    "f\"ER_node_{n_nodes}_seed_{max_seed_size}_n_traces_{n_train_traces}_indeg_ub_{indeg_ub}_fixed_indeg_{fixed_indeg}_p={p}\""
   ]
  },
  {
   "cell_type": "code",
   "execution_count": 106,
   "id": "751e28fd",
   "metadata": {},
   "outputs": [],
   "source": [
    "# from collections import Counter\n",
    "# Counter([tup[0].count_edges() for tup in g_distrib_dict_train_traces])"
   ]
  },
  {
   "cell_type": "code",
   "execution_count": 107,
   "id": "16c642d0",
   "metadata": {},
   "outputs": [],
   "source": [
    "distribs_grid = [beta(1, b) for b in range(1, 10)] "
   ]
  },
  {
   "cell_type": "code",
   "execution_count": 108,
   "id": "0ef24dd6",
   "metadata": {},
   "outputs": [],
   "source": [
    "weights_dict = {distrib_name: {g_idx: None for g_idx in range(n_graphs)} \n",
    "                for distrib_name in model_names}\n",
    "grid_search_estim_distribs = []"
   ]
  },
  {
   "cell_type": "code",
   "execution_count": 109,
   "id": "cdbfebcb",
   "metadata": {},
   "outputs": [
    {
     "name": "stdout",
     "output_type": "stream",
     "text": [
      "Model Oracle\n",
      "Graph 0\n",
      "Graph 1\n",
      "Graph 2\n",
      "Graph 3\n",
      "Graph 4\n",
      "Graph 5\n",
      "Graph 6\n",
      "Graph 7\n",
      "Graph 8\n",
      "Graph 9\n",
      "Model LT\n",
      "Graph 0\n",
      "Graph 1\n",
      "Graph 2\n",
      "Graph 3\n",
      "Graph 4\n",
      "Graph 5\n",
      "Graph 6\n",
      "Graph 7\n",
      "Graph 8\n",
      "Graph 9\n",
      "Model WC\n",
      "Graph 0\n",
      "Graph 1\n",
      "Graph 2\n",
      "Graph 3\n",
      "Graph 4\n",
      "Graph 5\n",
      "Graph 6\n",
      "Graph 7\n",
      "Graph 8\n",
      "Graph 9\n",
      "Model PTP\n",
      "Graph 0\n",
      "Graph 1\n",
      "Graph 2\n",
      "Graph 3\n",
      "Graph 4\n",
      "Graph 5\n",
      "Graph 6\n",
      "Graph 7\n",
      "Graph 8\n",
      "Graph 9\n",
      "Model IC\n",
      "Graph 0\n",
      "Graph 1\n",
      "Graph 2\n",
      "Graph 3\n",
      "Graph 4\n",
      "Graph 5\n",
      "Graph 6\n",
      "Graph 7\n",
      "Graph 8\n",
      "Graph 9\n",
      "Model GLT\n",
      "Graph 0\n",
      "Graph 1\n",
      "Graph 2\n",
      "Graph 3\n",
      "Graph 4\n",
      "Graph 5\n",
      "Graph 6\n",
      "Graph 7\n",
      "Graph 8\n",
      "Graph 9\n"
     ]
    }
   ],
   "source": [
    "for model_name, distrib_dict in model_2_distrib_dict.items():\n",
    "\n",
    "    print(f\"Model {model_name}\")\n",
    "\n",
    "    for g_idx, traces in g_idx_2_traces.items():\n",
    "        print(f\"Graph {g_idx}\")\n",
    "        g = g_list[g_idx]\n",
    "        if model_name == \"Oracle\":\n",
    "             weights_dict[\"Oracle\"][g_idx] = g.weights\n",
    "        elif model_name == \"WC\":\n",
    "            weights_dict[\"WC\"][g_idx] = make_weighted_cascade_weights(g)\n",
    "        elif model_name == \"PTN\":\n",
    "            weights_dict[\"PTN\"][g_idx] = propagated_trace_number_weight_estimator(g, traces)\n",
    "        elif model_name == \"PTP\":\n",
    "            weights_dict[\"PTP\"][g_idx] = propagated_trace_proportion_weight_estimator(g, traces)\n",
    "        elif model_name == \"IC\":\n",
    "            model = ICWeightEstimatorEM(g)\n",
    "            model.fit(traces, verbose=False)\n",
    "            weights_dict[model_name][g_idx] = model.weights_\n",
    "        elif model_name == \"GLT\":\n",
    "            grid_search_est = GLTGridSearchEstimator(g, distribs_grid=distribs_grid, n_jobs=cpu_count())\n",
    "            grid_search_est.fit(traces, verbose=False)\n",
    "            grid_search_estim_distribs.append(grid_search_est.vertex_2_distrib)\n",
    "            weights_dict[model_name][g_idx] = grid_search_est.weights_\n",
    "        elif model_name == \"LT\":\n",
    "            model = LTWeightEstimatorEM(g)\n",
    "            model.fit(traces, verbose=False)\n",
    "            weights_dict[model_name][g_idx] = model.weights_"
   ]
  },
  {
   "cell_type": "code",
   "execution_count": 110,
   "id": "efde7d25-e78f-469f-882f-3711db701801",
   "metadata": {},
   "outputs": [],
   "source": [
    "import pickle\n",
    "with open(f\"saved_results/weights_{save_name}.pkl\", \"wb\") as f:\n",
    "    pickle.dump(weights_dict, f)"
   ]
  },
  {
   "cell_type": "markdown",
   "id": "d834e4b1",
   "metadata": {},
   "source": [
    "## Greedy algorithm"
   ]
  },
  {
   "cell_type": "code",
   "execution_count": 111,
   "id": "36eb9633",
   "metadata": {},
   "outputs": [],
   "source": [
    "greedy_seeds_dict = {model_name: {g_idx: None for f_idx in range(n_graphs)} \n",
    "                     for model_name in model_2_distrib_dict}"
   ]
  },
  {
   "cell_type": "code",
   "execution_count": null,
   "id": "c81142ae",
   "metadata": {
    "scrolled": true
   },
   "outputs": [
    {
     "name": "stdout",
     "output_type": "stream",
     "text": [
      "Started workig with Oracle\n",
      "Started workig with graph 0\n",
      "Started workig with graph 1\n",
      "Started workig with graph 2\n",
      "Started workig with graph 3\n",
      "Started workig with graph 4\n",
      "Started workig with graph 5\n",
      "Started workig with graph 6\n",
      "Started workig with graph 7\n",
      "Started workig with graph 8\n",
      "Started workig with graph 9\n",
      "Started workig with LT\n",
      "Started workig with graph 0\n",
      "Started workig with graph 1\n",
      "Started workig with graph 2\n",
      "Started workig with graph 3\n",
      "Started workig with graph 4\n",
      "Started workig with graph 5\n",
      "Started workig with graph 6\n",
      "Started workig with graph 7\n",
      "Started workig with graph 8\n",
      "Started workig with graph 9\n",
      "Started workig with WC\n",
      "Started workig with graph 0\n",
      "Started workig with graph 1\n",
      "Started workig with graph 2\n",
      "Started workig with graph 3\n",
      "Started workig with graph 4\n",
      "Started workig with graph 5\n",
      "Started workig with graph 6\n",
      "Started workig with graph 7\n",
      "Started workig with graph 8\n",
      "Started workig with graph 9\n",
      "Started workig with PTP\n",
      "Started workig with graph 0\n",
      "Started workig with graph 1\n"
     ]
    }
   ],
   "source": [
    "\n",
    "for model_name, distrib_dict in model_2_distrib_dict.items():\n",
    "    print(f\"Started workig with {model_name}\")\n",
    "    for g_idx, weight in weights_dict[model_name].items():\n",
    "        print(f\"Started workig with graph {g_idx}\")\n",
    "        g = deepcopy(g_list[g_idx]).set_weights(weight)\n",
    "        if model_name == \"IC\": \n",
    "            influence_model = ICM(g, n_jobs=cpu_count())\n",
    "        elif model_name == \"GLT\":\n",
    "            influence_model = GLTM(g, grid_search_estim_distribs[g_idx], n_jobs=None)\n",
    "        else:\n",
    "            influence_model = GLTM(g, distrib_dict, n_jobs=None)\n",
    "        seed = influence_model.find_optimal_seed_greedily(seed_size=15, n_runs_per_node=100)\n",
    "        greedy_seeds_dict[model_name][g_idx] = seed \n"
   ]
  },
  {
   "cell_type": "code",
   "execution_count": null,
   "id": "cc5bb094-369c-46cc-8ac9-50accf383d4e",
   "metadata": {},
   "outputs": [],
   "source": [
    "with open(f\"saved_results/seed_{save_name}.pkl\", \"wb\") as f:\n",
    "    pickle.dump(greedy_seeds_dict, f)"
   ]
  },
  {
   "cell_type": "code",
   "execution_count": null,
   "id": "f212a66a",
   "metadata": {},
   "outputs": [],
   "source": [
    "# import pickle\n",
    "# with open(f\"saves_greedy_seeds/greedy_seeds_{save_name}_random_weights.pkl\", 'wb') as f:\n",
    "#     pickle.dump(greedy_seeds_dict, f)"
   ]
  },
  {
   "cell_type": "code",
   "execution_count": 17,
   "id": "c69574ce",
   "metadata": {},
   "outputs": [],
   "source": [
    "greedy_seed_size_range = range(1, 16, 3)"
   ]
  },
  {
   "cell_type": "code",
   "execution_count": null,
   "id": "fffdf94b",
   "metadata": {},
   "outputs": [],
   "source": [
    "model_2_mean_spread_over_graphs = {model_name: {graph_idx: [] for graph_idx in range(n_graphs)} \n",
    "                                   for model_name in greedy_seeds_dict.keys()}\n",
    "model_2_std_spread_over_graphs = {model_name: {graph_idx: [] for graph_idx in range(n_graphs)} \n",
    "                                   for model_name in greedy_seeds_dict.keys()}\n",
    "\n",
    "for model_name, grpah_idx_2_seed in greedy_seeds_dict.items():\n",
    "    print(f\"#### {model_name} ####\")\n",
    "    for graph_idx, seed in grpah_idx_2_seed.items():\n",
    "        print(f\"Started workig with graph {graph_idx}\")\n",
    "        g = g_list[graph_idx]\n",
    "        ltm = GLTM(g, true_distrib_dict)\n",
    "       \n",
    "        for seed_size in greedy_seed_size_range:\n",
    "            mean_spread, std_spread = ltm.estimate_spread(set(seed[:seed_size]), n_runs=100, \n",
    "                                                          with_std=True)\n",
    "        \n",
    "            model_2_mean_spread_over_graphs[model_name][graph_idx].append(mean_spread)\n",
    "            model_2_std_spread_over_graphs[model_name][graph_idx].append(std_spread)"
   ]
  },
  {
   "cell_type": "code",
   "execution_count": null,
   "id": "c6348bf5",
   "metadata": {},
   "outputs": [],
   "source": [
    "model_2_mean_spread_over_graphs = {model: model_2_mean_spread_over_graphs[model] for \n",
    "                                   model in [\"Oracle\", \"GLT\", \"LT\", \"IC\", \"PTP\", \"WC\"]}"
   ]
  },
  {
   "cell_type": "code",
   "execution_count": null,
   "id": "69548ce1",
   "metadata": {},
   "outputs": [],
   "source": [
    "res_df = []\n",
    "for model, graph_idx_2_spread in model_2_mean_spread_over_graphs.items():\n",
    "    for spread_over_seed_sizes in graph_idx_2_spread.values():\n",
    "        for seed_size, spread in zip(greedy_seed_size_range, spread_over_seed_sizes):\n",
    "            res_df.append([model, seed_size, spread])\n",
    "                            \n",
    "res_df = pd.DataFrame(res_df, columns=[\"Model\", \"n_seeds\", \"avg_spread\"])\n",
    "# res_df.to_csv(f\"saved_greedy_seeds/res_df_{save_name}.csv\")"
   ]
  },
  {
   "cell_type": "code",
   "execution_count": null,
   "id": "0e26c84f",
   "metadata": {},
   "outputs": [],
   "source": [
    "res_df.to_csv(f\"saved_results/res_df_{save_name}.csv\", index=None)"
   ]
  },
  {
   "cell_type": "code",
   "execution_count": 10,
   "id": "857e482b-cbd0-417f-adaf-bc7e5d92d735",
   "metadata": {},
   "outputs": [
    {
     "data": {
      "image/png": "[encoded data removed]",
      "text/plain": [
       "<Figure size 1600x1000 with 1 Axes>"
      ]
     },
     "metadata": {},
     "output_type": "display_data"
    }
   ],
   "source": [
    "\n",
    "plt.figure(figsize=(16, 10))\n",
    "sns.boxplot(x=res_df[\"n_seeds\"],\n",
    "           y=res_df[\"avg_spread\"],\n",
    "           hue=res_df[\"Model\"])\n",
    "plt.legend(fontsize=14)\n",
    "plt.ylabel(\"Average Spread\", fontsize=15)\n",
    "plt.xlabel(\"Seed set size\", fontsize=15)\n",
    "plt.show()"
   ]
  },
  {
   "cell_type": "code",
   "execution_count": null,
   "id": "2d370980",
   "metadata": {},
   "outputs": [],
   "source": [
    "make_heatmap(make_set_intersection_table(greedy_seeds_dict.valus()), greedy_seeds_dict.keys())"
   ]
  }
 ],
 "metadata": {
  "kernelspec": {
   "display_name": "brew_env",
   "language": "python",
   "name": "brew_env"
  },
  "language_info": {
   "codemirror_mode": {
    "name": "ipython",
    "version": 3
   },
   "file_extension": ".py",
   "mimetype": "text/x-python",
   "name": "python",
   "nbconvert_exporter": "python",
   "pygments_lexer": "ipython3",
   "version": "3.9.13"
  }
 },
 "nbformat": 4,
 "nbformat_minor": 5
}
