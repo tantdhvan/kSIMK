{
 "cells": [
  {
   "cell_type": "code",
   "execution_count": 3,
   "id": "2013ce98",
   "metadata": {},
   "outputs": [
    {
     "name": "stdout",
     "output_type": "stream",
     "text": [
      "CPUs available 8\n"
     ]
    }
   ],
   "source": [
    "import numpy as np\n",
    "import pandas as pd\n",
    "import os\n",
    "import pickle\n",
    "import networkx as nx\n",
    "from scipy.stats import expon, uniform, beta\n",
    "import seaborn as sns\n",
    "import matplotlib.pyplot as plt\n",
    "from tqdm import tqdm\n",
    "from time import time\n",
    "from joblib import cpu_count\n",
    "\n",
    "os.chdir(\"/Users/amkagan/Desktop/gltm_experiments\")\n",
    "\n",
    "from InfluenceDiffusion.estimation_models.OptimEstimation import GLTWeightEstimator\n",
    "from InfluenceDiffusion.estimation_models.EMEstimation import LTWeightEstimatorEM\n",
    "from InfluenceDiffusion.influence_models import LTM\n",
    "from InfluenceDiffusion.Graph import Graph\n",
    "from InfluenceDiffusion.weight_samplers import make_random_weights_with_indeg_constraint, \\\n",
    "                                               make_weighted_cascade_weights\n",
    "\n",
    "from utils.trace_utils import make_report_traces\n",
    "from utils.model_evaluation_utils import plot_estimator_output_vs_variable\n",
    "from utils.utils import RMAE, make_name_from_dict\n",
    "from utils.model_evaluation_utils import run_experiment\n",
    "\n",
    "\n",
    "print(\"CPUs available\", cpu_count())"
   ]
  },
  {
   "cell_type": "markdown",
   "id": "9c3c2ace",
   "metadata": {},
   "source": [
    "## Make graph"
   ]
  },
  {
   "cell_type": "code",
   "execution_count": 4,
   "id": "0f1e2d35",
   "metadata": {},
   "outputs": [],
   "source": [
    "n_nodes = 100\n",
    "p = 0.1\n",
    "max_seed_size = 5\n",
    "random_state = 2\n",
    "\n",
    "traces_range = [250, 500, 1000, 2000, 4000]\n",
    "num_runs_per_trace = 5\n",
    "error_metric = RMAE\n",
    "\n",
    "seed_size_range = range(1, max_seed_size + 1)\n",
    "g = nx.erdos_renyi_graph(n_nodes, p=p, seed=random_state, directed=True)\n",
    "g = Graph(g.edges)\n",
    "\n",
    "true_weights = make_random_weights_with_indeg_constraint(g, indeg_ub=1)\n",
    "\n",
    "g.set_weights(true_weights)\n",
    "ltm = LTM(g)\n",
    "\n",
    "# sns.heatmap(g.get_adj_matrix())\n",
    "# plt.show()"
   ]
  },
  {
   "cell_type": "code",
   "execution_count": 5,
   "id": "9787886e-82d1-48ae-a524-7e0bc9684d04",
   "metadata": {},
   "outputs": [],
   "source": [
    "save_dict = {\"n_nodes\": n_nodes, \n",
    "             \"n_traces\": max(traces_range),\n",
    "             \"max_seed_size\": max_seed_size, \n",
    "             \"n_trace_sets_per_graph\": num_runs_per_trace,\n",
    "             \"p\": p, \n",
    "             \"random_state\": random_state}\n",
    "\n",
    "save_name = make_name_from_dict(save_dict)"
   ]
  },
  {
   "cell_type": "markdown",
   "id": "ca7f6be9",
   "metadata": {},
   "source": [
    "## Define models"
   ]
  },
  {
   "cell_type": "code",
   "execution_count": 9,
   "id": "7a76e50f",
   "metadata": {},
   "outputs": [],
   "source": [
    "init_weights = make_weighted_cascade_weights(g)\n",
    "EM_fit_kwargs = {\"max_iter\": 200, \"tol\": 1e-7, \"init_weights\": init_weights, \"verbose\": False}\n",
    "Opt_fit_kwargs = {\"init_weights\": init_weights, \"verbose\": False}"
   ]
  },
  {
   "cell_type": "markdown",
   "id": "0fb31caa-303e-42d8-90b3-205c142842e1",
   "metadata": {},
   "source": [
    "## Compare EM vs Convex Optimization"
   ]
  },
  {
   "cell_type": "code",
   "execution_count": 11,
   "id": "fd7e54e5",
   "metadata": {},
   "outputs": [
    {
     "name": "stdout",
     "output_type": "stream",
     "text": [
      "\n",
      "Start working on 250 traces\n"
     ]
    },
    {
     "name": "stderr",
     "output_type": "stream",
     "text": [
      "100%|█████████████████████████████████████████████| 5/5 [00:26<00:00,  5.20s/it]\n"
     ]
    },
    {
     "name": "stdout",
     "output_type": "stream",
     "text": [
      "\n",
      "Start working on 500 traces\n"
     ]
    },
    {
     "name": "stderr",
     "output_type": "stream",
     "text": [
      "100%|█████████████████████████████████████████████| 5/5 [00:38<00:00,  7.64s/it]\n"
     ]
    },
    {
     "name": "stdout",
     "output_type": "stream",
     "text": [
      "\n",
      "Start working on 1000 traces\n"
     ]
    },
    {
     "name": "stderr",
     "output_type": "stream",
     "text": [
      "100%|█████████████████████████████████████████████| 5/5 [03:17<00:00, 39.43s/it]\n"
     ]
    },
    {
     "name": "stdout",
     "output_type": "stream",
     "text": [
      "\n",
      "Start working on 2000 traces\n"
     ]
    },
    {
     "name": "stderr",
     "output_type": "stream",
     "text": [
      "100%|████████████████████████████████████████████| 5/5 [26:52<00:00, 322.40s/it]\n"
     ]
    },
    {
     "name": "stdout",
     "output_type": "stream",
     "text": [
      "\n",
      "Start working on 4000 traces\n"
     ]
    },
    {
     "name": "stderr",
     "output_type": "stream",
     "text": [
      "100%|█████████████████████████████████████████████| 5/5 [05:38<00:00, 67.61s/it]\n"
     ]
    }
   ],
   "source": [
    "EM_estimator = LTWeightEstimatorEM(g)\n",
    "Opt_estimator = GLTWeightEstimator(g)\n",
    "\n",
    "n_traces_2_output_over_models = {}\n",
    "\n",
    "\n",
    "for n_traces in traces_range:\n",
    "    print()\n",
    "    print(f\"Start working on {n_traces} traces\")\n",
    "\n",
    "    n_traces_2_output_over_models[n_traces] = run_experiment(\n",
    "        g, \n",
    "        influence_model=ltm, \n",
    "        estimating_models_dict={f\"LT-EM (p={p})\": EM_estimator, f\"LT-Opt (p={p})\": Opt_estimator},\n",
    "        n_simulations=num_runs_per_trace, \n",
    "        n_traces=n_traces, seed_size_range=seed_size_range, \n",
    "        fit_kwargs={f\"LT-EM (p={p})\": EM_fit_kwargs, f\"LT-Opt (p={p})\": Opt_fit_kwargs})\n",
    "    \n",
    "with open(f\"saved_results/em_vs_opt_vary_traces_{save_name}.pkl\", \"wb\") as f:\n",
    "    pickle.dump(n_traces_2_output_over_models, f, protocol=pickle.HIGHEST_PROTOCOL)"
   ]
  },
  {
   "cell_type": "code",
   "execution_count": 21,
   "id": "a09545c0-7bdf-4a44-994f-f8216e131e74",
   "metadata": {},
   "outputs": [
    {
     "name": "stdout",
     "output_type": "stream",
     "text": [
      "\n",
      "Start working on 250 traces\n"
     ]
    },
    {
     "name": "stderr",
     "output_type": "stream",
     "text": [
      "100%|█████████████████████████████████████████████| 5/5 [00:11<00:00,  2.27s/it]\n"
     ]
    },
    {
     "name": "stdout",
     "output_type": "stream",
     "text": [
      "\n",
      "Start working on 500 traces\n"
     ]
    },
    {
     "name": "stderr",
     "output_type": "stream",
     "text": [
      "100%|█████████████████████████████████████████████| 5/5 [00:25<00:00,  5.15s/it]\n"
     ]
    },
    {
     "name": "stdout",
     "output_type": "stream",
     "text": [
      "\n",
      "Start working on 1000 traces\n"
     ]
    },
    {
     "name": "stderr",
     "output_type": "stream",
     "text": [
      "100%|█████████████████████████████████████████████| 5/5 [00:48<00:00,  9.62s/it]\n"
     ]
    },
    {
     "name": "stdout",
     "output_type": "stream",
     "text": [
      "\n",
      "Start working on 2000 traces\n"
     ]
    },
    {
     "name": "stderr",
     "output_type": "stream",
     "text": [
      "100%|█████████████████████████████████████████████| 5/5 [02:40<00:00, 32.09s/it]\n"
     ]
    },
    {
     "name": "stdout",
     "output_type": "stream",
     "text": [
      "\n",
      "Start working on 4000 traces\n"
     ]
    },
    {
     "name": "stderr",
     "output_type": "stream",
     "text": [
      "100%|█████████████████████████████████████████████| 5/5 [08:07<00:00, 97.60s/it]\n"
     ]
    }
   ],
   "source": [
    "EM_estimator = LTWeightEstimatorEM(g)\n",
    "Opt_estimator = GLTWeightEstimator(g)\n",
    "\n",
    "n_traces_2_output_over_models = {}\n",
    "\n",
    "\n",
    "for n_traces in traces_range:\n",
    "    print()\n",
    "    print(f\"Start working on {n_traces} traces\")\n",
    "\n",
    "    n_traces_2_output_over_models[n_traces] = run_experiment(\n",
    "        g, \n",
    "        influence_model=ltm, \n",
    "        estimating_models_dict={f\"LT-EM (p={p})\": EM_estimator, f\"LT-Opt (p={p})\": Opt_estimator},\n",
    "        n_simulations=num_runs_per_trace, \n",
    "        n_traces=n_traces, seed_size_range=seed_size_range, \n",
    "        fit_kwargs={f\"LT-EM (p={p})\": EM_fit_kwargs, f\"LT-Opt (p={p})\": Opt_fit_kwargs})\n",
    "    \n",
    "with open(f\"saved_results/em_vs_opt_vary_traces_{save_name}.pkl\", \"wb\") as f:\n",
    "    pickle.dump(n_traces_2_output_over_models, f, protocol=pickle.HIGHEST_PROTOCOL)"
   ]
  },
  {
   "cell_type": "code",
   "execution_count": 6,
   "id": "c2f698e0",
   "metadata": {},
   "outputs": [],
   "source": [
    "with open(f\"saved_results/em_vs_opt_vary_traces_{save_name}.pkl\", \"rb\") as f:\n",
    "    n_traces_2_output_over_models = pickle.load(f)"
   ]
  },
  {
   "cell_type": "markdown",
   "id": "96e64c02-293c-49a5-9027-6378ed136fb6",
   "metadata": {},
   "source": [
    "## Dense graph"
   ]
  },
  {
   "cell_type": "code",
   "execution_count": 10,
   "id": "50cd48bc-5cfe-4ed3-bed3-f5b56d6c0cf2",
   "metadata": {},
   "outputs": [],
   "source": [
    "p = 0.4\n",
    "\n",
    "\n",
    "np.random.seed(random_state)\n",
    "g = nx.erdos_renyi_graph(n_nodes, p=p, seed=random_state, directed=True)\n",
    "g = Graph(g.edges)\n",
    "\n",
    "true_weights = make_random_weights_with_indeg_constraint(g, indeg_ub=1)\n",
    "\n",
    "g.set_weights(true_weights)\n",
    "ltm = LTM(g)\n",
    "\n",
    "init_weights = make_weighted_cascade_weights(g)\n",
    "EM_fit_kwargs = {\"max_iter\": 200, \"tol\": 1e-7, \"init_weights\": init_weights, \"verbose\": False}\n",
    "Opt_fit_kwargs = {\"init_weights\": init_weights, \"verbose\": False}\n"
   ]
  },
  {
   "cell_type": "code",
   "execution_count": null,
   "id": "babc9fc5-3eef-4338-bf41-c23079119159",
   "metadata": {},
   "outputs": [
    {
     "name": "stdout",
     "output_type": "stream",
     "text": [
      "\n",
      "Start working on 250 traces\n"
     ]
    },
    {
     "name": "stderr",
     "output_type": "stream",
     "text": [
      "100%|██████████| 5/5 [02:23<00:00, 28.76s/it]\n"
     ]
    },
    {
     "name": "stdout",
     "output_type": "stream",
     "text": [
      "\n",
      "Start working on 500 traces\n"
     ]
    },
    {
     "name": "stderr",
     "output_type": "stream",
     "text": [
      "100%|██████████| 5/5 [03:04<00:00, 36.85s/it]\n"
     ]
    },
    {
     "name": "stdout",
     "output_type": "stream",
     "text": [
      "\n",
      "Start working on 1000 traces\n"
     ]
    },
    {
     "name": "stderr",
     "output_type": "stream",
     "text": [
      "100%|██████████| 5/5 [04:11<00:00, 50.22s/it]\n"
     ]
    },
    {
     "name": "stdout",
     "output_type": "stream",
     "text": [
      "\n",
      "Start working on 2000 traces\n"
     ]
    },
    {
     "name": "stderr",
     "output_type": "stream",
     "text": [
      "100%|██████████| 5/5 [06:18<00:00, 75.63s/it]\n"
     ]
    },
    {
     "name": "stdout",
     "output_type": "stream",
     "text": [
      "\n",
      "Start working on 4000 traces\n"
     ]
    },
    {
     "name": "stderr",
     "output_type": "stream",
     "text": [
      " 40%|████      | 2/5 [04:13<06:19, 126.50s/it]"
     ]
    }
   ],
   "source": [
    "EM_estimator = LTWeightEstimatorEM(g)\n",
    "Opt_estimator = GLTWeightEstimator(g)\n",
    "\n",
    "dense_n_traces_2_output_over_models = {}\n",
    "\n",
    "\n",
    "for n_traces in traces_range:\n",
    "    print()\n",
    "    print(f\"Start working on {n_traces} traces\")\n",
    "\n",
    "    dense_n_traces_2_output_over_models[n_traces] = run_experiment(\n",
    "        g, \n",
    "        influence_model=ltm, \n",
    "        estimating_models_dict={f\"LT-EM (p={p})\": EM_estimator, f\"LT-Opt (p={p})\": Opt_estimator},\n",
    "        n_simulations=num_runs_per_trace, \n",
    "        n_traces=n_traces, seed_size_range=seed_size_range, \n",
    "        fit_kwargs={f\"LT-EM (p={p})\": EM_fit_kwargs, f\"LT-Opt (p={p})\": Opt_fit_kwargs})\n",
    "    \n",
    "with open(f\"saved_results/em_vs_opt_vary_traces_{save_name}.pkl\", \"wb\") as f:\n",
    "    pickle.dump(dense_n_traces_2_output_over_models, f, protocol=pickle.HIGHEST_PROTOCOL)"
   ]
  },
  {
   "cell_type": "code",
   "execution_count": 8,
   "id": "53923236",
   "metadata": {},
   "outputs": [],
   "source": [
    "with open(f\"saved_results/em_vs_opt_vary_traces_{save_name}.pkl\", \"rb\") as f:\n",
    "    dense_n_traces_2_output_over_models = pickle.load(f)"
   ]
  },
  {
   "cell_type": "code",
   "execution_count": 9,
   "id": "b1e59228-e052-4f9a-9638-04d7d66d34fb",
   "metadata": {},
   "outputs": [
    {
     "data": {
      "image/png": "[encoded data removed]",
      "text/plain": [
       "<Figure size 720x432 with 1 Axes>"
      ]
     },
     "metadata": {
      "needs_background": "light"
     },
     "output_type": "display_data"
    }
   ],
   "source": [
    "plt.figure(figsize=(10, 6))\n",
    "plot_estimator_output_vs_variable(dense_n_traces_2_output_over_models, \n",
    "                                  output_key=\"errors\", \n",
    "                                  colors=[\"blue\", \"orange\"],\n",
    "                                  linestyles=[\"-\", \"-\"],\n",
    "                                  xlabel=\"Number of traces\",\n",
    "                                  ylabel=\"Relative MAE\",\n",
    "                                  n_std=2)\n",
    "\n",
    "plot_estimator_output_vs_variable(n_traces_2_output_over_models, \n",
    "                                  colors=[\"blue\", \"orange\"],\n",
    "                                  linestyles=[\"--\", \"--\"],\n",
    "                                  output_key=\"errors\", \n",
    "                                  xlabel=\"Number of traces\",\n",
    "                                  ylabel=\"Relative MAE\",\n",
    "                                  n_std=2)\n",
    "\n",
    "plt.savefig(\"figures/em_opt_compar_error.png\", dpi=150, bbox_inches=\"tight\")\n",
    "\n",
    "plt.show()"
   ]
  },
  {
   "cell_type": "code",
   "execution_count": null,
   "id": "0f171c39-5897-4dc8-9b44-1526818ac8b2",
   "metadata": {},
   "outputs": [],
   "source": []
  }
 ],
 "metadata": {
  "kernelspec": {
   "display_name": "brew_env",
   "language": "python",
   "name": "brew_env"
  },
  "language_info": {
   "codemirror_mode": {
    "name": "ipython",
    "version": 3
   },
   "file_extension": ".py",
   "mimetype": "text/x-python",
   "name": "python",
   "nbconvert_exporter": "python",
   "pygments_lexer": "ipython3",
   "version": "3.9.13"
  }
 },
 "nbformat": 4,
 "nbformat_minor": 5
}
