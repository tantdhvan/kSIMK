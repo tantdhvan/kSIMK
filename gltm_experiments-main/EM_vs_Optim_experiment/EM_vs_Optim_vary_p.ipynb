{
 "cells": [
  {
   "cell_type": "code",
   "execution_count": 3,
   "id": "2013ce98",
   "metadata": {},
   "outputs": [
    {
     "name": "stdout",
     "output_type": "stream",
     "text": [
      "CPUs available 8\n"
     ]
    }
   ],
   "source": [
    "import numpy as np\n",
    "import pandas as pd\n",
    "import os\n",
    "import pickle\n",
    "import networkx as nx\n",
    "from scipy.stats import expon, uniform, beta\n",
    "import seaborn as sns\n",
    "import matplotlib.pyplot as plt\n",
    "from tqdm import tqdm\n",
    "from time import time\n",
    "from joblib import cpu_count\n",
    "\n",
    "os.chdir(\"/Users/amkagan/Desktop/gltm_experiments\")\n",
    "\n",
    "from InfluenceDiffusion.estimation_models.OptimEstimation import GLTWeightEstimator\n",
    "from InfluenceDiffusion.estimation_models.EMEstimation import LTWeightEstimatorEM\n",
    "from InfluenceDiffusion.influence_models import LTM\n",
    "from InfluenceDiffusion.Graph import Graph\n",
    "from InfluenceDiffusion.weight_samplers import make_random_weights_with_indeg_constraint, \\\n",
    "                                               make_weighted_cascade_weights\n",
    "\n",
    "from utils.trace_utils import make_report_traces\n",
    "from utils.model_evaluation_utils import plot_estimator_output_vs_variable\n",
    "from utils.utils import RMAE, make_name_from_dict\n",
    "from utils.model_evaluation_utils import run_experiment\n",
    "\n",
    "\n",
    "print(\"CPUs available\", cpu_count())"
   ]
  },
  {
   "cell_type": "markdown",
   "id": "9c3c2ace",
   "metadata": {},
   "source": [
    "## Make graph"
   ]
  },
  {
   "cell_type": "code",
   "execution_count": 8,
   "id": "0f1e2d35",
   "metadata": {},
   "outputs": [],
   "source": [
    "p_range = [0.05, 0.1, 0.2, 0.4]\n",
    "max_seed_size = 5\n",
    "n_traces = 2000\n",
    "random_state = 2\n",
    "\n",
    "num_runs_per_trace = 5\n",
    "error_metric = RMAE\n",
    "\n",
    "seed_size_range = range(1, max_seed_size + 1)\n",
    "\n",
    "# sns.heatmap(g.get_adj_matrix())\n",
    "# plt.show()"
   ]
  },
  {
   "cell_type": "markdown",
   "id": "0fb31caa-303e-42d8-90b3-205c142842e1",
   "metadata": {},
   "source": [
    "## Compare EM vs Convex Optimization"
   ]
  },
  {
   "cell_type": "code",
   "execution_count": 9,
   "id": "e4513ef9-741d-45a6-8eb5-1209cf8d2364",
   "metadata": {},
   "outputs": [],
   "source": [
    "n_nodes = 100\n",
    "\n",
    "save_dict = {\"n_nodes\": n_nodes, \n",
    "             \"n_traces\": n_traces,\n",
    "             \"max_seed_size\": max_seed_size, \n",
    "             \"n_trace_sets_per_graph\": num_runs_per_trace,\n",
    "             \"max_p\": max(p_range), \n",
    "             \"random_state\": random_state}\n",
    "\n",
    "save_name = make_name_from_dict(save_dict)"
   ]
  },
  {
   "cell_type": "code",
   "execution_count": null,
   "id": "a09545c0-7bdf-4a44-994f-f8216e131e74",
   "metadata": {},
   "outputs": [
    {
     "name": "stdout",
     "output_type": "stream",
     "text": [
      "\n",
      "Start working on ER graph with p=0.05\n"
     ]
    },
    {
     "name": "stderr",
     "output_type": "stream",
     "text": [
      "100%|█████████████████████████████████████████████| 5/5 [00:29<00:00,  5.85s/it]\n"
     ]
    },
    {
     "name": "stdout",
     "output_type": "stream",
     "text": [
      "\n",
      "Start working on ER graph with p=0.1\n"
     ]
    },
    {
     "name": "stderr",
     "output_type": "stream",
     "text": [
      "100%|█████████████████████████████████████████████| 5/5 [01:01<00:00, 12.31s/it]\n"
     ]
    },
    {
     "name": "stdout",
     "output_type": "stream",
     "text": [
      "\n",
      "Start working on ER graph with p=0.2\n"
     ]
    },
    {
     "name": "stderr",
     "output_type": "stream",
     "text": [
      "100%|█████████████████████████████████████████████| 5/5 [02:26<00:00, 29.35s/it]\n"
     ]
    },
    {
     "name": "stdout",
     "output_type": "stream",
     "text": [
      "\n",
      "Start working on ER graph with p=0.4\n"
     ]
    },
    {
     "name": "stderr",
     "output_type": "stream",
     "text": [
      " 20%|████████▏                                | 1/5 [24:14<1:36:57, 1454.27s/it]"
     ]
    }
   ],
   "source": [
    "p_2_output_over_models_nodes_100 = {}\n",
    "\n",
    "np.random.seed(random_state)\n",
    "\n",
    "for idx, p in enumerate(p_range):\n",
    "    print()\n",
    "    print(f\"Start working on ER graph with p={p}\")\n",
    "    \n",
    "\n",
    "    g_nx = nx.erdos_renyi_graph(n_nodes, p=p, seed=idx, directed=True)\n",
    "    g = Graph(g_nx.edges)\n",
    "\n",
    "    true_weights = make_random_weights_with_indeg_constraint(g, indeg_ub=1)\n",
    "\n",
    "    g.set_weights(true_weights)\n",
    "    ltm = LTM(g)\n",
    "    \n",
    "    EM_estimator = LTWeightEstimatorEM(g)\n",
    "    Opt_estimator = GLTWeightEstimator(g)\n",
    "    init_weights = make_weighted_cascade_weights(g)\n",
    "    EM_fit_kwargs = {\"max_iter\": 100, \"tol\": 1e-7, \"verbose\": False}\n",
    "    Opt_fit_kwargs = {\"init_weights\": init_weights, \"verbose\": False}\n",
    "\n",
    "    p_2_output_over_models_nodes_100[p] = run_experiment(\n",
    "        g, \n",
    "        influence_model=ltm, \n",
    "        estimating_models_dict={\"LT-EM (n=100)\": EM_estimator, \"LT-Opt (n=100)\": Opt_estimator},\n",
    "        n_simulations=num_runs_per_trace, \n",
    "        n_traces=n_traces, seed_size_range=seed_size_range, \n",
    "        fit_kwargs={\"LT-EM (n=100)\": EM_fit_kwargs, \"LT-Opt (n=100)\": Opt_fit_kwargs})\n",
    "\n",
    "with open(f\"saved_results/em_vs_opt_vary_p_{save_name}.pkl\", \"wb\") as f:\n",
    "    pickle.dump(p_2_output_over_models_nodes_100, f, protocol=pickle.HIGHEST_PROTOCOL)"
   ]
  },
  {
   "cell_type": "code",
   "execution_count": 4,
   "id": "9ca3a19f-2243-4c71-a295-45ad2dc478c5",
   "metadata": {},
   "outputs": [],
   "source": [
    "with open(f\"saved_results/em_vs_opt_vary_p_{save_name}.pkl\", \"rb\") as f:\n",
    "    p_2_output_over_models_nodes_100 = pickle.load(f)"
   ]
  },
  {
   "cell_type": "code",
   "execution_count": 6,
   "id": "04ff71a4-2b3f-478f-8bc7-780071fa986f",
   "metadata": {},
   "outputs": [],
   "source": [
    "# plt.figure(figsize=(10, 6))\n",
    "# plot_estimator_output_vs_variable(p_2_output_over_models_nodes_100, \n",
    "#                                   output_key=\"times\",\n",
    "#                                   xlabel=\"ER prob\",\n",
    "#                                   ylabel=\"Work time (s)\",\n",
    "#                                   n_std=1)\n",
    "\n",
    "# plt.show()\n"
   ]
  },
  {
   "cell_type": "code",
   "execution_count": 5,
   "id": "b92be26a-a05e-4620-a982-3b66dd954308",
   "metadata": {},
   "outputs": [],
   "source": [
    "n_nodes = 200\n",
    "\n",
    "save_dict = {\"n_nodes\": n_nodes, \n",
    "             \"n_traces\": n_traces,\n",
    "             \"max_seed_size\": max_seed_size, \n",
    "             \"n_trace_sets_per_graph\": num_runs_per_trace,\n",
    "             \"max_p\": max(p_range), \n",
    "             \"random_state\": random_state}\n",
    "\n",
    "save_name = make_name_from_dict(save_dict)"
   ]
  },
  {
   "cell_type": "code",
   "execution_count": null,
   "id": "a6d00beb-911e-4eeb-865d-045d6f273b17",
   "metadata": {},
   "outputs": [
    {
     "name": "stdout",
     "output_type": "stream",
     "text": [
      "\n",
      "Start working on ER graph with p=0.05\n"
     ]
    },
    {
     "name": "stderr",
     "output_type": "stream",
     "text": [
      "100%|██████████| 5/5 [02:49<00:00, 33.82s/it]\n"
     ]
    },
    {
     "name": "stdout",
     "output_type": "stream",
     "text": [
      "\n",
      "Start working on ER graph with p=0.1\n"
     ]
    },
    {
     "name": "stderr",
     "output_type": "stream",
     "text": [
      "100%|██████████| 5/5 [05:24<00:00, 64.84s/it]\n"
     ]
    },
    {
     "name": "stdout",
     "output_type": "stream",
     "text": [
      "\n",
      "Start working on ER graph with p=0.2\n"
     ]
    },
    {
     "name": "stderr",
     "output_type": "stream",
     "text": [
      "100%|██████████| 5/5 [10:58<00:00, 131.65s/it]\n"
     ]
    },
    {
     "name": "stdout",
     "output_type": "stream",
     "text": [
      "\n",
      "Start working on ER graph with p=0.4\n"
     ]
    },
    {
     "name": "stderr",
     "output_type": "stream",
     "text": [
      "100%|██████████| 5/5 [25:17<00:00, 303.47s/it]\n"
     ]
    },
    {
     "name": "stdout",
     "output_type": "stream",
     "text": [
      "\n",
      "Start working on ER graph with p=0.8\n"
     ]
    },
    {
     "name": "stderr",
     "output_type": "stream",
     "text": [
      " 80%|████████  | 4/5 [55:26<13:53, 833.16s/it]"
     ]
    }
   ],
   "source": [
    "p_2_output_over_models_nodes_200 = {}\n",
    "\n",
    "np.random.seed(random_state)\n",
    "\n",
    "for p in p_range:\n",
    "    print()\n",
    "    print(f\"Start working on ER graph with p={p}\")\n",
    "    \n",
    "\n",
    "    g = make_erdos_renyi_graph(n_nodes, p=p, \n",
    "                               directed=True, loops_allowed=False)\n",
    "\n",
    "    true_weights = make_random_weights_with_indeg_constraint(g, indeg_ub=1)\n",
    "\n",
    "    g.set_weights(true_weights)\n",
    "    ltm = LTM(g)\n",
    "    \n",
    "    EM_estimator = LTWeightEstimatorEM(g)\n",
    "    Opt_estimator = GLTWeightEstimator(g)\n",
    "    init_weights = make_weighted_cascade_weights(g)\n",
    "    EM_fit_kwargs = {\"max_iter\": 100, \"tol\": 1e-7, \"verbose\": False}\n",
    "    Opt_fit_kwargs = {\"init_weights\": init_weights, \"verbose\": False}\n",
    "\n",
    "    p_2_output_over_models_nodes_200[p] = run_experiment(\n",
    "        g, \n",
    "        influence_model=ltm, \n",
    "        estimating_models_dict={\"LT-EM (n=200)\": EM_estimator, \"LT-Opt (n=200)\": Opt_estimator},\n",
    "        n_simulations=num_runs_per_trace, \n",
    "        n_traces=n_traces, seed_size_range=seed_size_range, \n",
    "        fit_kwargs={\"LT-EM (n=200)\": EM_fit_kwargs, \"LT-Opt (n=200)\": Opt_fit_kwargs})\n",
    "\n",
    "    with open(f\"saved_results/em_vs_opt_vary_p_{save_name}.pkl\", \"wb\") as f:\n",
    "        pickle.dump(p_2_output_over_models_nodes_200, f, protocol=pickle.HIGHEST_PROTOCOL)"
   ]
  },
  {
   "cell_type": "code",
   "execution_count": 5,
   "id": "9048d6fa-a696-4022-8c8f-96e254f84bed",
   "metadata": {},
   "outputs": [],
   "source": [
    "with open(f\"saved_results/em_vs_opt_vary_p_{save_name}.pkl\", \"rb\") as f:\n",
    "    p_2_output_over_models_nodes_200 = pickle.load(f)"
   ]
  },
  {
   "cell_type": "code",
   "execution_count": 22,
   "id": "dc4142a0-271e-4d06-8378-ebf3d6929df7",
   "metadata": {},
   "outputs": [
    {
     "data": {
      "image/png": "[encoded data removed]",
      "text/plain": [
       "<Figure size 1000x600 with 1 Axes>"
      ]
     },
     "metadata": {},
     "output_type": "display_data"
    }
   ],
   "source": [
    "plt.figure(figsize=(10, 6))\n",
    "plot_estimator_output_vs_variable(dict(list(p_2_output_over_models_nodes_100.items())[:-1]), \n",
    "                                  colors=[\"blue\", \"orange\"],\n",
    "                                  linestyles=[\"-\", \"-\"],\n",
    "                                  output_key=\"times\",\n",
    "                                  xlabel=\"ER edge probability\",\n",
    "                                  ylabel=\"Work time (s)\",\n",
    "                                  n_std=0)\n",
    "\n",
    "plot_estimator_output_vs_variable(dict(list(p_2_output_over_models_nodes_200.items())[:-1]), \n",
    "                                  colors=[\"blue\", \"orange\"],\n",
    "                                  linestyles=[\"--\", \"--\"],\n",
    "                                  output_key=\"times\",\n",
    "                                  xlabel=\"ER edge probability\",\n",
    "                                  ylabel=\"Work time (s)\",\n",
    "                                  n_std=0)\n",
    "\n",
    "plt.savefig(\"figures/em_opt_compar_prob.png\", dpi=150, bbox_inches=\"tight\")\n",
    "\n",
    "plt.show()\n"
   ]
  },
  {
   "cell_type": "code",
   "execution_count": null,
   "id": "0f728e38-594d-46c4-bab9-931b6aadec0e",
   "metadata": {},
   "outputs": [],
   "source": []
  }
 ],
 "metadata": {
  "kernelspec": {
   "display_name": "venv",
   "language": "python",
   "name": "venv"
  },
  "language_info": {
   "codemirror_mode": {
    "name": "ipython",
    "version": 3
   },
   "file_extension": ".py",
   "mimetype": "text/x-python",
   "name": "python",
   "nbconvert_exporter": "python",
   "pygments_lexer": "ipython3",
   "version": "3.9.6"
  }
 },
 "nbformat": 4,
 "nbformat_minor": 5
}
