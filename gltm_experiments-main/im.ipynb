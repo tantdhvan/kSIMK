{
 "cells": [
  {
   "cell_type": "code",
   "execution_count": null,
   "id": "4e29447e",
   "metadata": {},
   "outputs": [],
   "source": [
    "!pip install InfluenceDiffusion\n",
    "!pip install scikit-learn\n",
    "!pip install pandas\n",
    "!pip install seaborn\n",
    "!pip install tqdm"
   ]
  },
  {
   "cell_type": "code",
   "execution_count": 3,
   "id": "76028b80",
   "metadata": {},
   "outputs": [],
   "source": [
    "import numpy as np\n",
    "import pandas as pd\n",
    "import os\n",
    "from scipy.stats import uniform, beta\n",
    "import seaborn as sns\n",
    "import matplotlib.pyplot as plt\n",
    "from tqdm import tqdm\n",
    "from time import time\n",
    "from copy import deepcopy\n",
    "from itertools import product\n",
    "from sklearn.metrics import mean_absolute_error\n",
    "from multiprocessing import cpu_count\n",
    "from collections import Counter\n",
    "import networkx as nx\n",
    "\n",
    "os.chdir(\"D:/RESEARCH/kSIMK/gltm_experiments-main\")\n",
    "\n",
    "from InfluenceDiffusion.Graph import Graph\n",
    "from InfluenceDiffusion.influence_models import GLTM, LTM, ICM\n",
    "\n",
    "from InfluenceDiffusion.estimation_models.OptimEstimation import GLTGridSearchEstimator\n",
    "from InfluenceDiffusion.estimation_models.EMEstimation import ICWeightEstimatorEM, LTWeightEstimatorEM\n",
    "from InfluenceDiffusion.weight_samplers import make_random_weights_with_indeg_constraint,\\\n",
    "                                               make_random_weights_with_fixed_indeg, \\\n",
    "                                               make_weighted_cascade_weights\n",
    "\n",
    "from benchmark_estimators import propagated_trace_number_weight_estimator, \\\n",
    "                                 propagated_trace_proportion_weight_estimator\n",
    "\n",
    "\n",
    "from utils.trace_utils import make_report_traces, trace_train_test_split\n",
    "from utils.utils import make_set_intersection_table, plot_distribution\n",
    "from utils.model_evaluation_utils import make_heatmap\n"
   ]
  },
  {
   "cell_type": "code",
   "execution_count": null,
   "id": "6a4acbf5",
   "metadata": {},
   "outputs": [],
   "source": [
    "n_nodes = 2000\n",
    "p = 0.005\n",
    "random_state = 1\n",
    "max_seed_size = 5\n",
    "indeg_ub = 1\n",
    "fixed_indeg = False\n",
    "n_train_traces = 2000\n",
    "\n",
    "np.random.seed(random_state)\n",
    "\n",
    "true_distrib_dict = {v: beta(1, int(np.random.randint(1, 6))) for v in range(n_nodes)}\n",
    "\n",
    "g_nx = nx.erdos_renyi_graph(n_nodes, p=p, directed=True)\n",
    "g = Graph(g_nx.edges)\n",
    "if fixed_indeg:\n",
    "    true_weights = make_random_weights_with_fixed_indeg(g, indeg_ub=indeg_ub, random_state=None)\n",
    "else:\n",
    "    true_weights = make_random_weights_with_indeg_constraint(g, indeg_ub=indeg_ub, random_state=None)\n",
    "g.set_weights(true_weights)\n",
    "\n",
    "modelGLTM = GLTM(g, true_distrib_dict, random_state=None)\n",
    "modelLTM =LTM(g)\n",
    "modelICM=ICM(g)"
   ]
  },
  {
   "cell_type": "code",
   "execution_count": 52,
   "id": "2b73a98b",
   "metadata": {},
   "outputs": [],
   "source": [
    "def influence_spread(model, seed_set):\n",
    "    trace_steps = model.sample_trace(seed_set, out_trace_type=False)\n",
    "    total_influenced = len(set.union(*trace_steps))  # Loại bỏ trùng lặp\n",
    "    return total_influenced\n",
    "def estimate_influence(model, seed_set, num_simulations=100):\n",
    "    from concurrent.futures import ThreadPoolExecutor\n",
    "\n",
    "    def single_simulation(_):\n",
    "        return influence_spread(model, seed_set)\n",
    "\n",
    "    with ThreadPoolExecutor() as executor:\n",
    "        results = list(executor.map(single_simulation, range(num_simulations)))\n",
    "\n",
    "    return sum(results) / num_simulations"
   ]
  },
  {
   "cell_type": "code",
   "execution_count": 55,
   "id": "e6cb0f72",
   "metadata": {},
   "outputs": [
    {
     "name": "stdout",
     "output_type": "stream",
     "text": [
      "Tổng số nút bị ảnh hưởng theo GLTM: 418.885\n"
     ]
    }
   ],
   "source": [
    "seed_set=[0]\n",
    "kq = estimate_influence(modelICM, seed_set, num_simulations=1000)\n",
    "print(\"Tổng số nút bị ảnh hưởng theo GLTM:\", kq)"
   ]
  },
  {
   "cell_type": "markdown",
   "id": "d834e4b1",
   "metadata": {},
   "source": [
    "## Greedy algorithm"
   ]
  }
 ],
 "metadata": {
  "kernelspec": {
   "display_name": "base",
   "language": "python",
   "name": "python3"
  },
  "language_info": {
   "codemirror_mode": {
    "name": "ipython",
    "version": 3
   },
   "file_extension": ".py",
   "mimetype": "text/x-python",
   "name": "python",
   "nbconvert_exporter": "python",
   "pygments_lexer": "ipython3",
   "version": "3.12.7"
  }
 },
 "nbformat": 4,
 "nbformat_minor": 5
}
