{
 "cells": [
  {
   "cell_type": "code",
   "execution_count": 1,
   "id": "52e22448",
   "metadata": {},
   "outputs": [],
   "source": [
    "import numpy as np\n",
    "import pandas as pd\n",
    "import matplotlib.pyplot as plt\n",
    "from copy import deepcopy\n",
    "import networkx as nx\n",
    "import os\n",
    "\n",
    "os.chdir(\"/Users/amkagan/Desktop/gltm_experiments\")\n",
    "\n",
    "from collections import Counter\n",
    "\n",
    "from itertools import product, chain\n",
    "from tqdm import tqdm\n",
    "from typing import *\n",
    "import pickle\n",
    "import dill\n",
    "\n",
    "from utils.pseudo_trace_utils import compute_edge_stats_from_pseudo_traces, construct_pseudo_traces\n",
    "from InfluenceDiffusion.Graph import Graph\n",
    "from InfluenceDiffusion.Trace import Trace"
   ]
  },
  {
   "cell_type": "markdown",
   "id": "a891eb1c",
   "metadata": {},
   "source": [
    "## Open data"
   ]
  },
  {
   "cell_type": "code",
   "execution_count": 2,
   "id": "56c83a97",
   "metadata": {},
   "outputs": [],
   "source": [
    "trunc_edge_df = pd.read_csv(\"flixster_data/connected_comp_action_trunc_edge_df_new.csv\")\n",
    "trunc_action_df = pd.read_csv(\"flixster_data/trunc_popular_action_df_new.csv\")"
   ]
  },
  {
   "cell_type": "code",
   "execution_count": 3,
   "id": "1208ffde",
   "metadata": {},
   "outputs": [
    {
     "data": {
      "text/plain": [
       "101030"
      ]
     },
     "execution_count": 3,
     "metadata": {},
     "output_type": "execute_result"
    }
   ],
   "source": [
    "graph = Graph(trunc_edge_df.values, directed=False)\n",
    "graph.count_edges()"
   ]
  },
  {
   "cell_type": "markdown",
   "id": "2b597fb3-723c-4001-8841-dd953251a965",
   "metadata": {},
   "source": [
    "## Extract pseud-traces"
   ]
  },
  {
   "cell_type": "code",
   "execution_count": 4,
   "id": "ac0530e8-6863-4bf1-8e27-7cef9e925589",
   "metadata": {},
   "outputs": [
    {
     "name": "stderr",
     "output_type": "stream",
     "text": [
      "100%|██████████| 7041/7041 [04:57<00:00, 23.63it/s]\n"
     ]
    }
   ],
   "source": [
    "pseudo_traces = construct_pseudo_traces(trunc_action_df, graph)\n",
    "\n",
    "with open(f\"flixster_data/pseudo_traces_simplified/pseudo_traces.pkl\", \"wb\") as f:\n",
    "    pickle.dump(pseudo_traces, f, protocol=pickle.HIGHEST_PROTOCOL)"
   ]
  },
  {
   "cell_type": "markdown",
   "id": "cbe91e99-40bf-4c80-a630-ec603a209fa4",
   "metadata": {},
   "source": [
    "## Compute some statistics"
   ]
  },
  {
   "cell_type": "code",
   "execution_count": null,
   "id": "74fecbd7",
   "metadata": {
    "scrolled": true,
    "tags": []
   },
   "outputs": [],
   "source": [
    "def compute_num_active_parents_before_activation(action_df, graph):\n",
    "    user_2_num_active_parents_across_actions = {}\n",
    "    for user in tqdm(action_df[\"user\"].unique()):\n",
    "        user_2_num_active_parents_across_actions[user] = []\n",
    "        user_subdf = action_df[action_df[\"user\"] == user]\n",
    "        parents = graph.get_parents(user)\n",
    "        for action in user_subdf[\"action\"].unique():\n",
    "            user_time = user_subdf[\"time\"][user_subdf[\"action\"] == action].item()\n",
    "            users_active_before = set(action_df[\"user\"][(action_df[\"time\"] < user_time) & \\\n",
    "                                                        (action_df[\"action\"] == action)])\n",
    "            num_active_parents_before_active = len(parents & users_active_before)\n",
    "            user_2_num_active_parents_across_actions[user].append(num_active_parents_before_active)\n",
    "    return user_2_num_active_parents_across_actions\n",
    "\n",
    "user_2_num_active_parents_across_actions = \\\n",
    "    compute_num_active_parents_before_activation(trunc_action_df, graph)"
   ]
  },
  {
   "cell_type": "code",
   "execution_count": null,
   "id": "0711ebad",
   "metadata": {},
   "outputs": [],
   "source": [
    "user_2_num_pseuodtrace = {user: np.sum(np.array(num_active_parents) != 0) \n",
    "                    for user, num_active_parents in user_2_num_active_parents_across_actions.items()}\n",
    "num_pseudotraces = np.array(list(user_2_num_pseuodtrace.values()))\n",
    "print((num_pseudotraces > 0).sum(), (num_pseudotraces != 0).mean())"
   ]
  },
  {
   "cell_type": "code",
   "execution_count": null,
   "id": "441ea530",
   "metadata": {},
   "outputs": [],
   "source": [
    "pseudo_trace_stats = compute_edge_stats_from_pseudo_traces(train_pseudo_traces, trunc_edge_df.values)"
   ]
  },
  {
   "cell_type": "code",
   "execution_count": null,
   "id": "513748aa",
   "metadata": {},
   "outputs": [],
   "source": [
    "prop_edges_with_no_info = np.mean(np.vstack(list(pseudo_trace_stats.values())).sum(1) == 0)"
   ]
  },
  {
   "cell_type": "code",
   "execution_count": null,
   "id": "25719177-501b-4858-8404-e10865e18c71",
   "metadata": {},
   "outputs": [],
   "source": [
    "print(\"Prop edges with no information\", prop_edges_with_no_info)\n",
    "for pos_app in [1, 2, 5]:\n",
    "    prop_pos_app = np.mean(np.vstack(list(pseudo_trace_stats.values()))[:, 0] >= pos_app)\n",
    "    print(f\"Proportion of edges with at least {pos_app} positive appearences\", prop_pos_app)"
   ]
  },
  {
   "cell_type": "code",
   "execution_count": null,
   "id": "dda96521",
   "metadata": {},
   "outputs": [],
   "source": [
    "print(\"Prop edges with no information\", prop_edges_with_no_info)\n",
    "for pos_app in [1, 2, 5]:\n",
    "    prop_pos_app = np.mean(np.vstack(list(pseudo_trace_stats.values()))[:, 0] >= pos_app)\n",
    "    print(f\"Proportion of edges with at least {pos_app} positive appearences\", prop_pos_app)"
   ]
  },
  {
   "cell_type": "code",
   "execution_count": null,
   "id": "f8556fe3-e3c9-4714-b7cc-a36d0bf9e7e4",
   "metadata": {},
   "outputs": [],
   "source": [
    "# sorted(list(pseudo_trace_stats.values()), key=lambda tup: tup[0], reverse=True)"
   ]
  },
  {
   "cell_type": "code",
   "execution_count": null,
   "id": "07e306db",
   "metadata": {},
   "outputs": [],
   "source": [
    "user_2_num_traces_active = {vertex: np.sum([len(trace[1]) > 0 for trace in vertex_traces]) \n",
    "                            for  vertex, vertex_traces in pseudo_traces.items()}\n"
   ]
  },
  {
   "cell_type": "markdown",
   "id": "3b929a25-52b4-474c-be33-095339d432d4",
   "metadata": {},
   "source": [
    "## Analyze activation time deltas between neighbor activations"
   ]
  },
  {
   "cell_type": "code",
   "execution_count": null,
   "id": "cdc73bc1-5d8f-4168-929f-fb8eee9cd178",
   "metadata": {},
   "outputs": [],
   "source": [
    "def extract_parent_activation_time_deltas(action_df, graph: Graph, scale=1):\n",
    "    user_2_time_deltas = {}\n",
    "    for user in tqdm(action_df[\"user\"].unique()):\n",
    "        user_2_time_deltas[user] = []\n",
    "        user_subdf = action_df[action_df[\"user\"] == user]\n",
    "        parents = graph.get_parents(user)\n",
    "        for action in user_subdf[\"action\"].unique():\n",
    "            user_time = user_subdf[\"time\"][user_subdf[\"action\"] == action].item()\n",
    "            user_active_before_subdf = action_df[(action_df[\"time\"] < user_time) & \\\n",
    "                                                 (action_df[\"action\"] == action)]\n",
    "            user_2_time_deltas[user] += list(np.diff(user_active_before_subdf[\"time\"].sort_values())\n",
    "                                             / scale)\n",
    "    return user_2_time_deltas\n",
    "\n",
    "med_deltas = list([np.median(deltas) for deltas in user_2_time_deltas.values()])\n",
    "plt.boxplot(med_deltas)\n",
    "plt.show()"
   ]
  },
  {
   "cell_type": "code",
   "execution_count": null,
   "id": "880cf1e3-9caa-4891-ab5f-05f55ce6ab1b",
   "metadata": {},
   "outputs": [],
   "source": []
  }
 ],
 "metadata": {
  "kernelspec": {
   "display_name": "brew_env",
   "language": "python",
   "name": "brew_env"
  },
  "language_info": {
   "codemirror_mode": {
    "name": "ipython",
    "version": 3
   },
   "file_extension": ".py",
   "mimetype": "text/x-python",
   "name": "python",
   "nbconvert_exporter": "python",
   "pygments_lexer": "ipython3",
   "version": "3.9.13"
  }
 },
 "nbformat": 4,
 "nbformat_minor": 5
}
