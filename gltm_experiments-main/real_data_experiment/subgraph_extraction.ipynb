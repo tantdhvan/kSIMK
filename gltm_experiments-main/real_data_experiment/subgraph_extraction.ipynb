{
 "cells": [
  {
   "cell_type": "code",
   "execution_count": 2,
   "id": "52e22448",
   "metadata": {},
   "outputs": [],
   "source": [
    "import numpy as np\n",
    "import pandas as pd\n",
    "import matplotlib.pyplot as plt\n",
    "from copy import deepcopy\n",
    "import networkx as nx\n",
    "import os\n",
    "\n",
    "os.chdir(\"/Users/amkagan/Desktop/gltm_experiments\")\n",
    "\n",
    "from collections import Counter\n",
    "\n",
    "from itertools import product, chain\n",
    "from InfluenceDiffusion.Graph import Graph\n",
    "import cpnet"
   ]
  },
  {
   "cell_type": "markdown",
   "id": "2cd2fbd8",
   "metadata": {},
   "source": [
    "## Open log and network data"
   ]
  },
  {
   "cell_type": "code",
   "execution_count": 2,
   "id": "ec6842d4",
   "metadata": {},
   "outputs": [],
   "source": [
    "# simplify_graph(\"datasets/flixster_data/links.txt\", \"datasets/preprocessed_flixster/\")\n",
    "# make_action_log(\"datasets/flixster_data/Ratings.timed.txt\", \"datasets/preprocessed_flixster/\")"
   ]
  },
  {
   "cell_type": "code",
   "execution_count": 3,
   "id": "29b4591f",
   "metadata": {},
   "outputs": [
    {
     "data": {
      "text/html": [
       "<div>\n",
       "<style scoped>\n",
       "    .dataframe tbody tr th:only-of-type {\n",
       "        vertical-align: middle;\n",
       "    }\n",
       "\n",
       "    .dataframe tbody tr th {\n",
       "        vertical-align: top;\n",
       "    }\n",
       "\n",
       "    .dataframe thead th {\n",
       "        text-align: right;\n",
       "    }\n",
       "</style>\n",
       "<table border=\"1\" class=\"dataframe\">\n",
       "  <thead>\n",
       "    <tr style=\"text-align: right;\">\n",
       "      <th></th>\n",
       "      <th>user</th>\n",
       "      <th>action</th>\n",
       "      <th>time</th>\n",
       "      <th>raiting</th>\n",
       "    </tr>\n",
       "  </thead>\n",
       "  <tbody>\n",
       "    <tr>\n",
       "      <th>0</th>\n",
       "      <td>6413</td>\n",
       "      <td>1</td>\n",
       "      <td>1247720400</td>\n",
       "      <td>5</td>\n",
       "    </tr>\n",
       "    <tr>\n",
       "      <th>1</th>\n",
       "      <td>17457</td>\n",
       "      <td>1</td>\n",
       "      <td>1246078800</td>\n",
       "      <td>2</td>\n",
       "    </tr>\n",
       "    <tr>\n",
       "      <th>2</th>\n",
       "      <td>22324</td>\n",
       "      <td>1</td>\n",
       "      <td>1246424400</td>\n",
       "      <td>4</td>\n",
       "    </tr>\n",
       "    <tr>\n",
       "      <th>3</th>\n",
       "      <td>26245</td>\n",
       "      <td>1</td>\n",
       "      <td>1245906000</td>\n",
       "      <td>3</td>\n",
       "    </tr>\n",
       "    <tr>\n",
       "      <th>4</th>\n",
       "      <td>58055</td>\n",
       "      <td>1</td>\n",
       "      <td>1246251600</td>\n",
       "      <td>5</td>\n",
       "    </tr>\n",
       "  </tbody>\n",
       "</table>\n",
       "</div>"
      ],
      "text/plain": [
       "    user  action        time  raiting\n",
       "0   6413       1  1247720400        5\n",
       "1  17457       1  1246078800        2\n",
       "2  22324       1  1246424400        4\n",
       "3  26245       1  1245906000        3\n",
       "4  58055       1  1246251600        5"
      ]
     },
     "execution_count": 3,
     "metadata": {},
     "output_type": "execute_result"
    }
   ],
   "source": [
    "action_df = pd.read_csv(\"flixster_data/preprocessed_flixster/action_logs.txt\", header=None, sep=\" \")\n",
    "action_df = action_df.rename(columns={0: \"user\", 1: \"action\", 2: \"time\", 3: \"raiting\"})\n",
    "action_df.head()"
   ]
  },
  {
   "cell_type": "code",
   "execution_count": 4,
   "id": "710708df",
   "metadata": {},
   "outputs": [
    {
     "name": "stdout",
     "output_type": "stream",
     "text": [
      "Pairs (year, num raitings this year): \n",
      "[(2001, 2), (2005, 459), (2006, 849915), (2007, 3710445), (2008, 1906165), (2009, 1729079)]\n"
     ]
    }
   ],
   "source": [
    "# time is counted in minutes starting from 1 Jan 1970\n",
    "\n",
    "action_year = 1970 + action_df[\"time\"] // (60 * 60 * 24 * 365)\n",
    "print(\"Pairs (year, num raitings this year): \")\n",
    "print(sorted(Counter(action_year).items(), key=lambda kv: kv[0]))"
   ]
  },
  {
   "cell_type": "code",
   "execution_count": 5,
   "id": "001ddd0d",
   "metadata": {},
   "outputs": [],
   "source": [
    "# Flixster was launched in 2006, so the first year should be 36! Ratings made before 2006 seem \n",
    "# to be sanity check ones. We drop them.\n",
    "\n",
    "action_df = action_df[action_year >= 2006]\n",
    "action_year = action_year[action_year >= 2006]"
   ]
  },
  {
   "cell_type": "code",
   "execution_count": 6,
   "id": "ac69904d",
   "metadata": {},
   "outputs": [],
   "source": [
    "edge_df = pd.read_csv(\"flixster_data/preprocessed_flixster/graph_undirected.txt\", sep=\" \", header=None)[[0,1]]\n",
    "edge_df = edge_df.rename(columns={0: \"from\", 1: \"to\"})"
   ]
  },
  {
   "cell_type": "code",
   "execution_count": 7,
   "id": "b8c3ef52",
   "metadata": {},
   "outputs": [
    {
     "name": "stdout",
     "output_type": "stream",
     "text": [
      "Num nodes: 786936\n",
      "Num edges: 5897324\n"
     ]
    }
   ],
   "source": [
    "print(\"Num nodes:\", len(set(edge_df[\"from\"]) | set(edge_df[\"to\"])))\n",
    "print(\"Num edges:\", len(edge_df))"
   ]
  },
  {
   "cell_type": "code",
   "execution_count": 8,
   "id": "a45430bc",
   "metadata": {},
   "outputs": [
    {
     "data": {
      "image/png": "[encoded data removed]",
      "text/plain": [
       "<Figure size 640x480 with 1 Axes>"
      ]
     },
     "metadata": {},
     "output_type": "display_data"
    }
   ],
   "source": [
    "action_nums_dict = Counter(action_df[\"action\"])\n",
    "\n",
    "popular_actions = {action for action, num in action_nums_dict.items() if 5000 > num > 50}\n",
    "len(popular_actions) / len(action_nums_dict)\n",
    "\n",
    "plt.hist([action_nums_dict[action] for action in popular_actions])\n",
    "plt.xlabel(\"Num times film was rated\")\n",
    "plt.ylabel(\"Film count\")\n",
    "plt.show()"
   ]
  },
  {
   "cell_type": "code",
   "execution_count": 9,
   "id": "e2ce4274",
   "metadata": {},
   "outputs": [],
   "source": [
    "popular_action_df = action_df[action_df[\"action\"].apply(lambda x: x in popular_actions)]"
   ]
  },
  {
   "cell_type": "code",
   "execution_count": 10,
   "id": "d9bd932d",
   "metadata": {},
   "outputs": [],
   "source": [
    "user_num_actions = popular_action_df.groupby(\"user\")[\"action\"].nunique()"
   ]
  },
  {
   "cell_type": "code",
   "execution_count": 20,
   "id": "d7784739-4575-4951-a605-63868054eabc",
   "metadata": {},
   "outputs": [
    {
     "data": {
      "text/plain": [
       "Text(0.5, 0, 'Num actions performed')"
      ]
     },
     "execution_count": 20,
     "metadata": {},
     "output_type": "execute_result"
    },
    {
     "data": {
      "image/png": "[encoded data removed]",
      "text/plain": [
       "<Figure size 640x480 with 1 Axes>"
      ]
     },
     "metadata": {},
     "output_type": "display_data"
    }
   ],
   "source": [
    "plt.hist(user_num_actions[(user_num_actions < 500)].values)\n",
    "plt.ylabel(\"User count\")\n",
    "plt.xlabel(\"Num actions performed\")"
   ]
  },
  {
   "cell_type": "code",
   "execution_count": 21,
   "id": "6b1a4ae2",
   "metadata": {},
   "outputs": [
    {
     "data": {
      "text/plain": [
       "(0.17639620653319282, 19251)"
      ]
     },
     "execution_count": 21,
     "metadata": {},
     "output_type": "execute_result"
    }
   ],
   "source": [
    "active_users = set(user_num_actions.index[(user_num_actions > 20) & (user_num_actions < 500)])\n",
    "len(active_users) / len(user_num_actions), len(active_users)"
   ]
  },
  {
   "cell_type": "code",
   "execution_count": 22,
   "id": "9c868ab9",
   "metadata": {},
   "outputs": [],
   "source": [
    "edge_mask = edge_df.apply(lambda edge: set(edge).issubset(active_users), axis=1)\n",
    "active_edge_df = edge_df[edge_mask]\n",
    "active_users_graph_nx = nx.Graph(active_edge_df.values.tolist())"
   ]
  },
  {
   "cell_type": "code",
   "execution_count": 23,
   "id": "2b608cc6-247e-4610-877a-4194a870721d",
   "metadata": {},
   "outputs": [
    {
     "name": "stderr",
     "output_type": "stream",
     "text": [
      "/home/amkagan/.local/lib/python3.10/site-packages/cpnet/utils.py:20: FutureWarning: adjacency_matrix will return a scipy.sparse array instead of a matrix in Networkx 3.0.\n",
      "  sparse.csr_matrix(nx.adjacency_matrix(net), dtype=np.float64),\n"
     ]
    },
    {
     "name": "stdout",
     "output_type": "stream",
     "text": [
      "8962 are in the core\n"
     ]
    }
   ],
   "source": [
    "# Delete periphery\n",
    "algorithm = cpnet.KM_config()\n",
    "algorithm.detect(active_users_graph_nx)\n",
    "core_nodes = [node for node, if_core in algorithm.get_coreness().items() if if_core == 1]\n",
    "active_users_graph_nx = active_users_graph_nx.subgraph(core_nodes)\n",
    "\n",
    "print(len(core_nodes), \"are in the core\")"
   ]
  },
  {
   "cell_type": "code",
   "execution_count": 29,
   "id": "143ceecb-d51e-4075-8e72-4891c360d221",
   "metadata": {},
   "outputs": [
    {
     "name": "stdout",
     "output_type": "stream",
     "text": [
      "Largest connected component: 8174\n"
     ]
    }
   ],
   "source": [
    "# Extract connected component \n",
    "big_comp = max(nx.connected_components(active_users_graph_nx), key=len)\n",
    "print(\"Largest connected component:\", len(big_comp))\n",
    "active_users_graph_nx = active_users_graph_nx.subgraph(big_comp)"
   ]
  },
  {
   "cell_type": "code",
   "execution_count": 30,
   "id": "47c56392",
   "metadata": {},
   "outputs": [
    {
     "name": "stdout",
     "output_type": "stream",
     "text": [
      "Num nodes in the core of the subgraph: 8174\n",
      "Num edges in the core of the subgraph: 50515\n",
      "Core is connected: True\n"
     ]
    }
   ],
   "source": [
    "print(\"Num nodes in the core of the subgraph:\", len(big_comp))\n",
    "print(\"Num edges in the core of the subgraph:\", len(active_users_graph_nx.edges))\n",
    "print(\"Core is connected:\", nx.is_connected(active_users_graph_nx))\n",
    "\n",
    "pd.DataFrame(active_users_graph_nx.edges).to_csv(\"flixster_data/connected_comp_action_trunc_edge_df_new.csv\", \n",
    "                                                 index=None)"
   ]
  },
  {
   "cell_type": "code",
   "execution_count": 31,
   "id": "9cd54c68",
   "metadata": {},
   "outputs": [],
   "source": [
    "trunc_popular_action_df = popular_action_df[popular_action_df[\"user\"].apply(lambda user: user in \n",
    "                                                                            active_users_graph_nx.nodes)]\n",
    "trunc_popular_action_df.to_csv(\"flixster_data/trunc_popular_action_df_new.csv\", index=None)"
   ]
  },
  {
   "cell_type": "code",
   "execution_count": 32,
   "id": "bcc7fba3-4334-4307-a8e0-295335b4fa9c",
   "metadata": {},
   "outputs": [
    {
     "name": "stdout",
     "output_type": "stream",
     "text": [
      "Overall, 7041 actions\n"
     ]
    }
   ],
   "source": [
    "print(f\"Overall, {trunc_popular_action_df['action'].nunique()} actions\")"
   ]
  },
  {
   "cell_type": "code",
   "execution_count": 28,
   "id": "71b3caa1",
   "metadata": {},
   "outputs": [
    {
     "name": "stdout",
     "output_type": "stream",
     "text": [
      "Avg degree of extracted graph 12.359921702960607\n"
     ]
    },
    {
     "data": {
      "image/png": "[encoded data removed]",
      "text/plain": [
       "<Figure size 640x480 with 1 Axes>"
      ]
     },
     "metadata": {},
     "output_type": "display_data"
    }
   ],
   "source": [
    "print(\"Avg degree of extracted graph\", 2 * len(active_users_graph_nx.edges) / len(active_users_graph_nx.nodes))\n",
    "plt.boxplot(dict(active_users_graph_nx.degree).values())\n",
    "plt.show()"
   ]
  },
  {
   "cell_type": "code",
   "execution_count": null,
   "id": "9490fc6f-3270-4927-a235-3adbb7b8ca18",
   "metadata": {},
   "outputs": [],
   "source": []
  }
 ],
 "metadata": {
  "kernelspec": {
   "display_name": "Python 3 (ipykernel)",
   "language": "python",
   "name": "python3"
  },
  "language_info": {
   "codemirror_mode": {
    "name": "ipython",
    "version": 3
   },
   "file_extension": ".py",
   "mimetype": "text/x-python",
   "name": "python",
   "nbconvert_exporter": "python",
   "pygments_lexer": "ipython3",
   "version": "3.9.6"
  }
 },
 "nbformat": 4,
 "nbformat_minor": 5
}
