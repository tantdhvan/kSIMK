{
 "cells": [
  {
   "cell_type": "code",
   "execution_count": null,
   "id": "589857b9",
   "metadata": {},
   "outputs": [],
   "source": [
    "!pip install networkx"
   ]
  },
  {
   "cell_type": "code",
   "execution_count": null,
   "id": "ec23f85b",
   "metadata": {},
   "outputs": [],
   "source": [
    "!pip install scipy "
   ]
  },
  {
   "cell_type": "code",
   "execution_count": null,
   "id": "0f60f6c3",
   "metadata": {},
   "outputs": [],
   "source": [
    "!pip install matplotlib"
   ]
  },
  {
   "cell_type": "code",
   "execution_count": null,
   "id": "f8f42cc1",
   "metadata": {},
   "outputs": [],
   "source": [
    "import networkx as nx\n",
    "import random\n",
    "import matplotlib.pyplot as plt\n",
    "from collections import deque\n",
    "import concurrent.futures\n",
    "import numpy as np\n",
    "from scipy.stats import uniform, beta\n",
    "\n",
    "n_nodes=1000\n",
    "G = nx.erdos_renyi_graph(n_nodes, 0.02,directed=True)\n",
    "\n",
    "for node in G.nodes():\n",
    "    G.nodes[node]['weight'] = random.uniform(0, 1)\n",
    "\n",
    "for u, v in G.edges():\n",
    "    G.edges[u, v]['weights'] = (\n",
    "        random.uniform(0, 1),\n",
    "        random.uniform(0, 1),\n",
    "        random.uniform(0, 1)\n",
    "    )\n",
    "threshold_dict = {v: beta(1, int(np.random.randint(1, 10))) for v in range(n_nodes)}"
   ]
  },
  {
   "cell_type": "code",
   "execution_count": 26,
   "id": "b15673a8",
   "metadata": {},
   "outputs": [
    {
     "name": "stdout",
     "output_type": "stream",
     "text": [
      "Số cạnh:  20073\n",
      "Các đỉnh cạnh 1:\n",
      "21\n",
      "68\n",
      "114\n",
      "127\n",
      "616\n",
      "682\n",
      "787\n",
      "790\n",
      "801\n",
      "805\n",
      "986\n"
     ]
    }
   ],
   "source": [
    "#In ra số cạnh của G\n",
    "print('Số cạnh: ',G.number_of_edges())\n",
    "print('Các đỉnh cạnh 1:')\n",
    "for neighbor in G.neighbors(0):\n",
    "    print(neighbor)"
   ]
  },
  {
   "cell_type": "markdown",
   "id": "2f6d9576",
   "metadata": {},
   "source": [
    "## Hàm tính ảnh hưởng"
   ]
  },
  {
   "cell_type": "code",
   "execution_count": 36,
   "id": "833d06f6",
   "metadata": {},
   "outputs": [],
   "source": [
    "def gtlm_influence_spread(G, seed_set, thresholds):\n",
    "    \"\"\"\n",
    "    G: Đồ thị với trọng số cạnh là xác suất ảnh hưởng giữa các nút.\n",
    "    seed_set: List các nút ban đầu bị ảnh hưởng. Mỗi phần tử là (node, topic).\n",
    "    thresholds: Dictionary chứa ngưỡng ảnh hưởng cho mỗi nút.\n",
    "    \n",
    "    Trả về: dict {topic: set(node bị ảnh hưởng theo topic)}\n",
    "    \"\"\"\n",
    "    activated = dict()  # node -> topic bị ảnh hưởng đầu tiên\n",
    "    influence = dict()  # node -> ảnh hưởng tổng cộng từ các hàng xóm\n",
    "    \n",
    "    for node in G.nodes:\n",
    "        influence[node] = {0: 0, 1: 0, 2: 0}  # Khởi tạo ảnh hưởng cho tất cả các chủ đề là 0\n",
    "    # Khởi tạo các nút ban đầu bị ảnh hưởng\n",
    "    for node, topic in seed_set:\n",
    "        activated[node] = topic\n",
    "        # Khởi tạo ảnh hưởng cho tất cả các topic (0, 1, 2)\n",
    "        #if node not in influence:\n",
    "            #influence[node] = {0: 0, 1: 0, 2: 0}\n",
    "        influence[node][topic] = 1  # Đặt ảnh hưởng ban đầu là 1 cho chủ đề bị ảnh hưởng\n",
    "\n",
    "    \n",
    "    # Sử dụng hàng đợi để lan truyền ảnh hưởng\n",
    "    queue = deque(seed_set)\n",
    "    \n",
    "    while queue:\n",
    "        current_node, topic = queue.popleft()\n",
    "        \n",
    "        # Duyệt qua các nút hàng xóm\n",
    "        for neighbor in G.neighbors(current_node):\n",
    "            if neighbor in activated:\n",
    "                continue  # Nếu đã bị ảnh hưởng, bỏ qua\n",
    "            \n",
    "            # Tính toán ảnh hưởng từ current_node đến neighbor cho topic hiện tại\n",
    "            weight = G.edges[current_node, neighbor].get('weights', (0, 0, 0))\n",
    "            influence_prob = weight[topic]\n",
    "            \n",
    "            # Cập nhật tổng ảnh hưởng cho neighbor\n",
    "            influence[neighbor][topic] += influence_prob\n",
    "            threshold_value = thresholds[neighbor].rvs()\n",
    "            # Kiểm tra xem neighbor có bị ảnh hưởng hay không\n",
    "            if influence[neighbor][topic] >= threshold_value:\n",
    "                activated[neighbor] = topic\n",
    "                queue.append((neighbor, topic))\n",
    "    \n",
    "    # Tạo kết quả phân loại các nút theo topic\n",
    "    topic_influence = {0: set(), 1: set(), 2: set()}\n",
    "    for node, topic in activated.items():\n",
    "        topic_influence[topic].add(node)\n",
    "\n",
    "    return topic_influence,len(activated.items())\n"
   ]
  },
  {
   "cell_type": "code",
   "execution_count": 37,
   "id": "fb978dfb",
   "metadata": {},
   "outputs": [],
   "source": [
    "def influence_spread(G, seed_set):\n",
    "    \"\"\"\n",
    "    G: Đồ thị với trọng số cạnh là bộ 3 số tương ứng 3 chủ đề.\n",
    "    seed_set: List các tuple (node, topic) – tập node ban đầu bị ảnh hưởng theo chủ đề.\n",
    "    \n",
    "    Trả về: dict {topic: set(node bị ảnh hưởng theo topic)}\n",
    "    \"\"\"\n",
    "    activated = dict()  # node -> topic bị ảnh hưởng đầu tiên\n",
    "    queue = deque(seed_set)\n",
    "\n",
    "    for node, topic in seed_set:\n",
    "        activated[node] = topic\n",
    "\n",
    "    while queue:\n",
    "        current_node, topic = queue.popleft()\n",
    "\n",
    "        for neighbor in G.neighbors(current_node):\n",
    "            if neighbor in activated:\n",
    "                continue  # đã bị ảnh hưởng rồi\n",
    "\n",
    "            weight_tuple = G.edges[current_node, neighbor].get('weights', (0, 0, 0))\n",
    "            influence_prob = weight_tuple[topic]\n",
    "\n",
    "            if random.random() <= influence_prob:\n",
    "                activated[neighbor] = topic\n",
    "                queue.append((neighbor, topic))\n",
    "\n",
    "    topic_influence = {0: set(), 1: set(), 2: set()}\n",
    "    for node, topic in activated.items():\n",
    "        topic_influence[topic].add(node)\n",
    "\n",
    "    return topic_influence"
   ]
  },
  {
   "cell_type": "code",
   "execution_count": 38,
   "id": "28d07f81",
   "metadata": {},
   "outputs": [],
   "source": [
    "def monte_carlo_parallel(G, seed_set, num_simulations=100):\n",
    "    from concurrent.futures import ThreadPoolExecutor\n",
    "\n",
    "    def single_simulation(_):\n",
    "        return len(set.union(*influence_spread(G, seed_set).values()))\n",
    "\n",
    "    with ThreadPoolExecutor() as executor:\n",
    "        results = list(executor.map(single_simulation, range(num_simulations)))\n",
    "\n",
    "    return sum(results) / num_simulations\n"
   ]
  },
  {
   "cell_type": "code",
   "execution_count": 39,
   "id": "65367abb",
   "metadata": {},
   "outputs": [
    {
     "name": "stdout",
     "output_type": "stream",
     "text": [
      "Trung bình số node bị ảnh hưởng: 999.99\n",
      "1000\n"
     ]
    }
   ],
   "source": [
    "avg_total = monte_carlo_parallel(G, seed_set=[(0, 1)], num_simulations=1000)\n",
    "print(f\"Trung bình số node bị ảnh hưởng: {avg_total:.2f}\")\n",
    "gltm,sl = gtlm_influence_spread(G, seed_set=[(0, 1)],thresholds=threshold_dict)\n",
    "print(sl)"
   ]
  }
 ],
 "metadata": {
  "kernelspec": {
   "display_name": "Python 3",
   "language": "python",
   "name": "python3"
  },
  "language_info": {
   "codemirror_mode": {
    "name": "ipython",
    "version": 3
   },
   "file_extension": ".py",
   "mimetype": "text/x-python",
   "name": "python",
   "nbconvert_exporter": "python",
   "pygments_lexer": "ipython3",
   "version": "3.13.2"
  }
 },
 "nbformat": 4,
 "nbformat_minor": 5
}
