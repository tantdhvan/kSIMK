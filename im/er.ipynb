{
 "cells": [
  {
   "cell_type": "code",
   "execution_count": null,
   "id": "589857b9",
   "metadata": {},
   "outputs": [],
   "source": [
    "!pip install networkx"
   ]
  },
  {
   "cell_type": "code",
   "execution_count": null,
   "id": "ec23f85b",
   "metadata": {},
   "outputs": [],
   "source": [
    "!pip install scipy "
   ]
  },
  {
   "cell_type": "code",
   "execution_count": null,
   "id": "0f60f6c3",
   "metadata": {},
   "outputs": [],
   "source": [
    "!pip install matplotlib"
   ]
  },
  {
   "cell_type": "code",
   "execution_count": 112,
   "id": "f8f42cc1",
   "metadata": {},
   "outputs": [],
   "source": [
    "import networkx as nx\n",
    "import random\n",
    "import matplotlib.pyplot as plt\n",
    "from collections import deque\n",
    "import concurrent.futures\n",
    "\n",
    "G = nx.erdos_renyi_graph(1000, 0.0001,directed=True)\n",
    "\n",
    "for node in G.nodes():\n",
    "    G.nodes[node]['weight'] = random.uniform(0, 1)\n",
    "\n",
    "for u, v in G.edges():\n",
    "    G.edges[u, v]['weights'] = (\n",
    "        random.uniform(0, 1),\n",
    "        random.uniform(0, 1),\n",
    "        random.uniform(0, 1)\n",
    "    )"
   ]
  },
  {
   "cell_type": "code",
   "execution_count": null,
   "id": "b15673a8",
   "metadata": {},
   "outputs": [
    {
     "name": "stdout",
     "output_type": "stream",
     "text": [
      "Số cạnh:  99\n"
     ]
    }
   ],
   "source": [
    "#In ra số cạnh của G\n",
    "print('Số cạnh: ',G.number_of_edges())\n",
    "print('Các đỉnh cạnh 1:')\n",
    "for neighbor in G.neighbors(0):\n",
    "    print(neighbor)"
   ]
  },
  {
   "cell_type": "markdown",
   "id": "2f6d9576",
   "metadata": {},
   "source": [
    "## Hàm tính ảnh hưởng"
   ]
  },
  {
   "cell_type": "code",
   "execution_count": 107,
   "id": "fb978dfb",
   "metadata": {},
   "outputs": [],
   "source": [
    "def influence_spread(G, seed_set):\n",
    "    \"\"\"\n",
    "    G: Đồ thị với trọng số cạnh là bộ 3 số tương ứng 3 chủ đề.\n",
    "    seed_set: List các tuple (node, topic) – tập node ban đầu bị ảnh hưởng theo chủ đề.\n",
    "    \n",
    "    Trả về: dict {topic: set(node bị ảnh hưởng theo topic)}\n",
    "    \"\"\"\n",
    "    activated = dict()  # node -> topic bị ảnh hưởng đầu tiên\n",
    "    queue = deque(seed_set)\n",
    "\n",
    "    for node, topic in seed_set:\n",
    "        activated[node] = topic\n",
    "\n",
    "    while queue:\n",
    "        current_node, topic = queue.popleft()\n",
    "\n",
    "        for neighbor in G.neighbors(current_node):\n",
    "            if neighbor in activated:\n",
    "                continue  # đã bị ảnh hưởng rồi\n",
    "\n",
    "            weight_tuple = G.edges[current_node, neighbor].get('weights', (0, 0, 0))\n",
    "            influence_prob = weight_tuple[topic]\n",
    "\n",
    "            if random.random() <= influence_prob:\n",
    "                activated[neighbor] = topic\n",
    "                queue.append((neighbor, topic))\n",
    "\n",
    "    topic_influence = {0: set(), 1: set(), 2: set()}\n",
    "    for node, topic in activated.items():\n",
    "        topic_influence[topic].add(node)\n",
    "\n",
    "    return topic_influence"
   ]
  },
  {
   "cell_type": "code",
   "execution_count": 108,
   "id": "28d07f81",
   "metadata": {},
   "outputs": [],
   "source": [
    "def monte_carlo_parallel(G, seed_set, num_simulations=100):\n",
    "    from concurrent.futures import ThreadPoolExecutor\n",
    "\n",
    "    def single_simulation(_):\n",
    "        return len(set.union(*influence_spread(G, seed_set).values()))\n",
    "\n",
    "    with ThreadPoolExecutor() as executor:\n",
    "        results = list(executor.map(single_simulation, range(num_simulations)))\n",
    "\n",
    "    return sum(results) / num_simulations\n"
   ]
  },
  {
   "cell_type": "code",
   "execution_count": 111,
   "id": "65367abb",
   "metadata": {},
   "outputs": [
    {
     "name": "stdout",
     "output_type": "stream",
     "text": [
      "Trung bình số node bị ảnh hưởng: 1.00\n"
     ]
    }
   ],
   "source": [
    "avg_total = monte_carlo_parallel(G, seed_set=[(0, 1)], num_simulations=1000)\n",
    "print(f\"Trung bình số node bị ảnh hưởng: {avg_total:.2f}\")"
   ]
  }
 ],
 "metadata": {
  "kernelspec": {
   "display_name": "Python 3",
   "language": "python",
   "name": "python3"
  },
  "language_info": {
   "codemirror_mode": {
    "name": "ipython",
    "version": 3
   },
   "file_extension": ".py",
   "mimetype": "text/x-python",
   "name": "python",
   "nbconvert_exporter": "python",
   "pygments_lexer": "ipython3",
   "version": "3.13.2"
  }
 },
 "nbformat": 4,
 "nbformat_minor": 5
}
